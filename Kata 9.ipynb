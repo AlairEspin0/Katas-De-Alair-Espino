{
 "cells": [
  {
   "cell_type": "markdown",
   "metadata": {},
   "source": [
    "Kata 9"
   ]
  },
  {
   "cell_type": "markdown",
   "metadata": {},
   "source": [
    "#Ejercicio 1"
   ]
  },
  {
   "cell_type": "code",
   "execution_count": 2,
   "metadata": {},
   "outputs": [],
   "source": [
    "def combustible(combus1,combus2,combus3):\n",
    "    porcentaje = (combus1 + combus2 + combus3) / 3\n",
    "    return f\"\"\"Reporte de Combustible:\n",
    "    Porcentaje total: {porcentaje}%\n",
    "    Tanque Principal: {combus1}%\n",
    "    Tanque 2: {combus2}%\n",
    "    Tanque 3: {combus3}% \n",
    "    \"\"\""
   ]
  },
  {
   "cell_type": "code",
   "execution_count": 3,
   "metadata": {},
   "outputs": [
    {
     "name": "stdout",
     "output_type": "stream",
     "text": [
      "Reporte de Combustible:\n",
      "    Porcentaje total: 68.33333333333333%\n",
      "    Tanque Principal: 80%\n",
      "    Tanque 2: 50%\n",
      "    Tanque 3: 75% \n",
      "    \n"
     ]
    }
   ],
   "source": [
    "print(combustible(80,50,75))"
   ]
  },
  {
   "cell_type": "code",
   "execution_count": 6,
   "metadata": {},
   "outputs": [],
   "source": [
    "def promedio(valores):\n",
    "    total = sum(valores)\n",
    "    numberodeitems = len(valores)\n",
    "    return total / numberodeitems"
   ]
  },
  {
   "cell_type": "code",
   "execution_count": 7,
   "metadata": {},
   "outputs": [
    {
     "data": {
      "text/plain": [
       "82.0"
      ]
     },
     "execution_count": 7,
     "metadata": {},
     "output_type": "execute_result"
    }
   ],
   "source": [
    "promedio([80, 85, 81])"
   ]
  },
  {
   "cell_type": "code",
   "execution_count": 8,
   "metadata": {},
   "outputs": [],
   "source": [
    "def combustible(combus1,combus2,combus3):\n",
    "    return f\"\"\"Reporte de Combustible:\n",
    "    Porcentaje total: {promedio([combus1,combus2,combus3])}%\n",
    "    Tanque Principal: {combus1}%\n",
    "    Tanque 2: {combus2}%\n",
    "    Tanque 3: {combus3}% \n",
    "    \"\"\""
   ]
  },
  {
   "cell_type": "code",
   "execution_count": 9,
   "metadata": {},
   "outputs": [
    {
     "name": "stdout",
     "output_type": "stream",
     "text": [
      "Reporte de Combustible:\n",
      "    Porcentaje total: 78.0%\n",
      "    Tanque Principal: 88%\n",
      "    Tanque 2: 76%\n",
      "    Tanque 3: 70% \n",
      "    \n"
     ]
    }
   ],
   "source": [
    "print(combustible(88, 76, 70))"
   ]
  },
  {
   "cell_type": "markdown",
   "metadata": {},
   "source": [
    "#Ejercicio 2"
   ]
  },
  {
   "cell_type": "code",
   "execution_count": 14,
   "metadata": {},
   "outputs": [],
   "source": [
    "def reporte_de_mision(prelanzamiento, tiempodevuelo, destino, tanqueexterno, tanqueprinc):\n",
    "    return f\"\"\"\n",
    "    Mision a {destino}\n",
    "    Tiempo total de vuelo: {prelanzamiento + tiempodevuelo} minutos\n",
    "    Total de combustible: {tanqueexterno + tanqueprinc} galones\n",
    "    \"\"\""
   ]
  },
  {
   "cell_type": "code",
   "execution_count": 15,
   "metadata": {},
   "outputs": [
    {
     "name": "stdout",
     "output_type": "stream",
     "text": [
      "\n",
      "    Mision a Luna\n",
      "    Tiempo total de vuelo: 76 minutos\n",
      "    Total de combustible: 30000 galones\n",
      "    \n"
     ]
    }
   ],
   "source": [
    "print(reporte_de_mision(18,58,'Luna',10000,20000))"
   ]
  },
  {
   "cell_type": "code",
   "execution_count": 28,
   "metadata": {},
   "outputs": [],
   "source": [
    "def reporte_de_mision(destino, *minutos, **combustible):\n",
    "    report = f\"\"\"\n",
    "    Mision a {destino}\n",
    "    Tiempo total de vuelo: {sum(minutos)} minutos\n",
    "    Total de combustible: {sum(combustible.values())} galones\n",
    "    \"\"\"\n",
    "\n",
    "    for nomtank, galones in combustible.items():\n",
    "       report += f\"{nomtank} --> {galones} quedan gallones\\n\"\n",
    "    return report"
   ]
  },
  {
   "cell_type": "code",
   "execution_count": 30,
   "metadata": {},
   "outputs": [
    {
     "name": "stdout",
     "output_type": "stream",
     "text": [
      "\n",
      "    Mision a Luna\n",
      "    Tiempo total de vuelo: 78 minutos\n",
      "    Total de combustible: 130000 galones\n",
      "    Tanque_externo tank --> 100000 gallons left\n",
      "Tanque_interno tank --> 30000 gallons left\n",
      "\n"
     ]
    }
   ],
   "source": [
    "print(reporte_de_mision('Luna',14,52,12,Tanque_externo=100000,Tanque_interno=30000))"
   ]
  }
 ],
 "metadata": {
  "interpreter": {
   "hash": "3ca0446e97ad411e89f7a37433864f5c7a4506d0565d74e7db441be7559d326b"
  },
  "kernelspec": {
   "display_name": "Python 3.9.10 64-bit (windows store)",
   "language": "python",
   "name": "python3"
  },
  "language_info": {
   "codemirror_mode": {
    "name": "ipython",
    "version": 3
   },
   "file_extension": ".py",
   "mimetype": "text/x-python",
   "name": "python",
   "nbconvert_exporter": "python",
   "pygments_lexer": "ipython3",
   "version": "3.9.10"
  },
  "orig_nbformat": 4
 },
 "nbformat": 4,
 "nbformat_minor": 2
}
