{
 "cells": [
  {
   "cell_type": "markdown",
   "metadata": {},
   "source": [
    "Kata 6"
   ]
  },
  {
   "cell_type": "markdown",
   "metadata": {},
   "source": [
    "#Ejercicio 1"
   ]
  },
  {
   "cell_type": "code",
   "execution_count": 1,
   "metadata": {},
   "outputs": [
    {
     "name": "stdout",
     "output_type": "stream",
     "text": [
      "El numero total de planetas es:  8\n"
     ]
    }
   ],
   "source": [
    "planets = ['Mercury', 'Venus', 'Earth', 'Mars', 'Jupiter', 'Saturn', 'Uranus', 'Neptune']\n",
    "numerodeplanetas = len(planets)\n",
    "\n",
    "print('El numero total de planetas es: ',numerodeplanetas)"
   ]
  },
  {
   "cell_type": "code",
   "execution_count": 3,
   "metadata": {},
   "outputs": [
    {
     "name": "stdout",
     "output_type": "stream",
     "text": [
      "El numero total de planetas actual es:  10\n"
     ]
    }
   ],
   "source": [
    "planets.append('Pluton')\n",
    "numerodeplanetas=len(planets)\n",
    "print('El numero total de planetas actual es: ',numerodeplanetas)"
   ]
  },
  {
   "cell_type": "markdown",
   "metadata": {},
   "source": [
    "#Ejercicio 2"
   ]
  },
  {
   "cell_type": "code",
   "execution_count": 6,
   "metadata": {},
   "outputs": [
    {
     "name": "stdout",
     "output_type": "stream",
     "text": [
      "Planetas mas cercanos al sol que: Earth\n",
      "['Mercury', 'Venus']\n",
      "Planetas mas lejanos al sol que: Earth\n",
      "['Mars', 'Jupiter', 'Saturn', 'Neptune']\n"
     ]
    }
   ],
   "source": [
    "planets = ['Mercury', 'Venus', 'Earth', 'Mars', 'Jupiter', 'Saturn', 'Neptune']\n",
    "\n",
    "nombreplan=input('Porfavor ingresa el nombre del planeta deseado comensando en mayuscula:')\n",
    "planusuario=planets.index(nombreplan)\n",
    "\n",
    "print('Planetas mas cercanos al sol que: '+ nombreplan)\n",
    "print(planets[0:planusuario])\n",
    "\n",
    "print('Planetas mas lejanos al sol que: '+ nombreplan)\n",
    "print(planets[planusuario+1:])\n"
   ]
  }
 ],
 "metadata": {
  "interpreter": {
   "hash": "3ca0446e97ad411e89f7a37433864f5c7a4506d0565d74e7db441be7559d326b"
  },
  "kernelspec": {
   "display_name": "Python 3.9.10 64-bit (windows store)",
   "language": "python",
   "name": "python3"
  },
  "language_info": {
   "codemirror_mode": {
    "name": "ipython",
    "version": 3
   },
   "file_extension": ".py",
   "mimetype": "text/x-python",
   "name": "python",
   "nbconvert_exporter": "python",
   "pygments_lexer": "ipython3",
   "version": "3.9.10"
  },
  "orig_nbformat": 4
 },
 "nbformat": 4,
 "nbformat_minor": 2
}
