{
 "cells": [
  {
   "cell_type": "markdown",
   "metadata": {},
   "source": [
    "#Ejercicio 1"
   ]
  },
  {
   "cell_type": "code",
   "execution_count": 4,
   "metadata": {},
   "outputs": [
    {
     "name": "stdout",
     "output_type": "stream",
     "text": [
      "628949330\n",
      "390577534\n"
     ]
    }
   ],
   "source": [
    "tierra = 149597870\n",
    "jupiter = 778547200\n",
    "distkm = tierra - jupiter\n",
    "distmill = distkm*0.621\n",
    "print(abs(distkm))\n",
    "print(round(abs(distmill)))"
   ]
  },
  {
   "cell_type": "markdown",
   "metadata": {},
   "source": [
    "#Ejercicio 2"
   ]
  },
  {
   "cell_type": "code",
   "execution_count": 6,
   "metadata": {},
   "outputs": [
    {
     "name": "stdout",
     "output_type": "stream",
     "text": [
      "50300000\n",
      "31236300.0\n"
     ]
    }
   ],
   "source": [
    "dist1=input(\"Cual es la primera distancia: \")\n",
    "dist2=input(\"Cual es la segunda distancia: \")\n",
    "\n",
    "dist1=int(dist1)\n",
    "dist2=int(dist2)\n",
    "\n",
    "distpromkm=dist2-dist1\n",
    "distprommill=distpromkm*0.621\n",
    "\n",
    "print(abs(distpromkm))\n",
    "print(abs(distprommill))"
   ]
  }
 ],
 "metadata": {
  "interpreter": {
   "hash": "3ca0446e97ad411e89f7a37433864f5c7a4506d0565d74e7db441be7559d326b"
  },
  "kernelspec": {
   "display_name": "Python 3.9.10 64-bit (windows store)",
   "language": "python",
   "name": "python3"
  },
  "language_info": {
   "codemirror_mode": {
    "name": "ipython",
    "version": 3
   },
   "file_extension": ".py",
   "mimetype": "text/x-python",
   "name": "python",
   "nbconvert_exporter": "python",
   "pygments_lexer": "ipython3",
   "version": "3.9.10"
  },
  "orig_nbformat": 4
 },
 "nbformat": 4,
 "nbformat_minor": 2
}
